{
 "cells": [
  {
   "cell_type": "code",
   "execution_count": 1,
   "id": "26edcfe9",
   "metadata": {},
   "outputs": [],
   "source": [
    "#Portfolio Optimisation Problem: used to minimize loss by having diversified portfolio\n",
    "#This code selects 5 most unrelated stocks out of randomly selected 20 stocks\n",
    "\n",
    "import yfinance as yf\n",
    "import pandas as pd\n",
    "import numpy as np"
   ]
  },
  {
   "cell_type": "code",
   "execution_count": 2,
   "id": "9d559faf",
   "metadata": {},
   "outputs": [],
   "source": [
    "def get_stock_data(ticker, start_date, end_date):\n",
    "    stock_data = yf.download(ticker, start=start_date, end=end_date)\n",
    "    return stock_data['Adj Close'] #only getting adjusted close data of each stock"
   ]
  },
  {
   "cell_type": "code",
   "execution_count": 3,
   "id": "7ebda95e",
   "metadata": {},
   "outputs": [],
   "source": [
    "def get_stocks(n=20):\n",
    "    all_tickers = [\n",
    "        \"RELIANCE.NS\", \"TCS.NS\", \"INFY.NS\", \"ASIANPAINT.NS\", \"ITC.NS\",\"SBIN.NS\", \"LT.NS\", \"HINDUNILVR.NS\", \"ICICIBANK.NS\", \"HDFCBANK.NS\",\"M&M.NS\", \"AXISBANK.NS\", \"WIPRO.NS\", \"COALINDIA.NS\", \"BAJFINANCE.NS\", \"SUNPHARMA.NS\", \"BHARTIARTL.NS\", \"MARUTI.NS\", \"NTPC.NS\", \"TATAMOTORS.NS\"\n",
    "]\n",
    "    return all_tickers"
   ]
  },
  {
   "cell_type": "code",
   "execution_count": 4,
   "id": "ddabf8d5",
   "metadata": {},
   "outputs": [],
   "source": [
    "def calculate_correlation(stocks):\n",
    "    prices = pd.concat([get_stock_data(ticker, '2022-01-01', '2023-01-01') for ticker in stocks], axis=1, keys=stocks) #gets stock data and creates one single data column for each stock\n",
    "    correlations = prices.pct_change().corr() #calculates the correlation values between each stock's return with another\n",
    "    return correlations"
   ]
  },
  {
   "cell_type": "code",
   "execution_count": 5,
   "id": "165d9a93",
   "metadata": {},
   "outputs": [],
   "source": [
    "def get_uncorrelated_stocks(correlation_matrix, N=5):#selects top N=5 uncorelated stocks\n",
    "    avg_correlations = correlation_matrix.mean(axis=1) #calculates mean correlation value of each stock across each stock\n",
    "    uncorrelated_stocks = avg_correlations.nlargest(N).index #uses nlargest method to get top 5 unrelated stocks and gets its index (ticker)\n",
    "    return uncorrelated_stocks"
   ]
  },
  {
   "cell_type": "code",
   "execution_count": 6,
   "id": "ba700c4f",
   "metadata": {},
   "outputs": [
    {
     "name": "stdout",
     "output_type": "stream",
     "text": [
      "[*********************100%%**********************]  1 of 1 completed\n",
      "[*********************100%%**********************]  1 of 1 completed\n",
      "[*********************100%%**********************]  1 of 1 completed\n",
      "[*********************100%%**********************]  1 of 1 completed\n",
      "[*********************100%%**********************]  1 of 1 completed\n",
      "[*********************100%%**********************]  1 of 1 completed\n",
      "[*********************100%%**********************]  1 of 1 completed\n",
      "[*********************100%%**********************]  1 of 1 completed\n",
      "[*********************100%%**********************]  1 of 1 completed\n",
      "[*********************100%%**********************]  1 of 1 completed\n",
      "[*********************100%%**********************]  1 of 1 completed\n",
      "[*********************100%%**********************]  1 of 1 completed\n",
      "[*********************100%%**********************]  1 of 1 completed\n",
      "[*********************100%%**********************]  1 of 1 completed\n",
      "[*********************100%%**********************]  1 of 1 completed\n",
      "[*********************100%%**********************]  1 of 1 completed\n",
      "[*********************100%%**********************]  1 of 1 completed\n",
      "[*********************100%%**********************]  1 of 1 completed\n",
      "[*********************100%%**********************]  1 of 1 completed\n",
      "[*********************100%%**********************]  1 of 1 completed\n"
     ]
    }
   ],
   "source": [
    "stocks = get_stocks(20) \n",
    "correlation_matrix = calculate_correlation(stocks)\n",
    "uncorrelated_stocks = get_uncorrelated_stocks(correlation_matrix, N=5)"
   ]
  },
  {
   "cell_type": "code",
   "execution_count": 8,
   "id": "31f15e57",
   "metadata": {
    "scrolled": true
   },
   "outputs": [
    {
     "name": "stdout",
     "output_type": "stream",
     "text": [
      "Randomly selected stocks: ['RELIANCE.NS', 'TCS.NS', 'INFY.NS', 'ASIANPAINT.NS', 'ITC.NS', 'SBIN.NS', 'LT.NS', 'HINDUNILVR.NS', 'ICICIBANK.NS', 'HDFCBANK.NS', 'M&M.NS', 'AXISBANK.NS', 'WIPRO.NS', 'COALINDIA.NS', 'BAJFINANCE.NS', 'SUNPHARMA.NS', 'BHARTIARTL.NS', 'MARUTI.NS', 'NTPC.NS', 'TATAMOTORS.NS']\n"
     ]
    }
   ],
   "source": [
    "print(\"Randomly selected stocks:\", stocks)"
   ]
  },
  {
   "cell_type": "code",
   "execution_count": 9,
   "id": "b8486823",
   "metadata": {},
   "outputs": [
    {
     "name": "stdout",
     "output_type": "stream",
     "text": [
      "Correlation matrix:\n",
      "                RELIANCE.NS    TCS.NS   INFY.NS  ASIANPAINT.NS    ITC.NS  \\\n",
      "RELIANCE.NS       1.000000  0.365957  0.328318       0.254998  0.322532   \n",
      "TCS.NS            0.365957  1.000000  0.760558       0.395293  0.246909   \n",
      "INFY.NS           0.328318  0.760558  1.000000       0.337446  0.280913   \n",
      "ASIANPAINT.NS     0.254998  0.395293  0.337446       1.000000  0.185298   \n",
      "ITC.NS            0.322532  0.246909  0.280913       0.185298  1.000000   \n",
      "SBIN.NS           0.420745  0.381630  0.357810       0.329726  0.393498   \n",
      "LT.NS             0.434761  0.522993  0.565749       0.449373  0.411952   \n",
      "HINDUNILVR.NS     0.242862  0.296087  0.288740       0.509366  0.294620   \n",
      "ICICIBANK.NS      0.435200  0.372107  0.410183       0.404775  0.354920   \n",
      "HDFCBANK.NS       0.357122  0.435995  0.435047       0.325431  0.288896   \n",
      "M&M.NS            0.443146  0.300737  0.274827       0.394770  0.305703   \n",
      "AXISBANK.NS       0.350525  0.288359  0.284740       0.267866  0.290736   \n",
      "WIPRO.NS          0.366931  0.691370  0.713294       0.423972  0.309512   \n",
      "COALINDIA.NS      0.421608  0.255745  0.202138       0.005172  0.391374   \n",
      "BAJFINANCE.NS     0.457497  0.454869  0.452997       0.460064  0.389955   \n",
      "SUNPHARMA.NS      0.270989  0.339346  0.343568       0.294159  0.302546   \n",
      "BHARTIARTL.NS     0.350316  0.291820  0.329265       0.271397  0.237508   \n",
      "MARUTI.NS         0.347776  0.264842  0.191240       0.422750  0.207462   \n",
      "NTPC.NS           0.311518  0.197202  0.133697       0.076077  0.319321   \n",
      "TATAMOTORS.NS     0.520485  0.462082  0.405598       0.403252  0.406523   \n",
      "\n",
      "                SBIN.NS     LT.NS  HINDUNILVR.NS  ICICIBANK.NS  HDFCBANK.NS  \\\n",
      "RELIANCE.NS    0.420745  0.434761       0.242862      0.435200     0.357122   \n",
      "TCS.NS         0.381630  0.522993       0.296087      0.372107     0.435995   \n",
      "INFY.NS        0.357810  0.565749       0.288740      0.410183     0.435047   \n",
      "ASIANPAINT.NS  0.329726  0.449373       0.509366      0.404775     0.325431   \n",
      "ITC.NS         0.393498  0.411952       0.294620      0.354920     0.288896   \n",
      "SBIN.NS        1.000000  0.541053       0.315549      0.691331     0.453610   \n",
      "LT.NS          0.541053  1.000000       0.396684      0.590743     0.465051   \n",
      "HINDUNILVR.NS  0.315549  0.396684       1.000000      0.382164     0.350033   \n",
      "ICICIBANK.NS   0.691331  0.590743       0.382164      1.000000     0.566613   \n",
      "HDFCBANK.NS    0.453610  0.465051       0.350033      0.566613     1.000000   \n",
      "M&M.NS         0.445006  0.479353       0.389452      0.462383     0.368465   \n",
      "AXISBANK.NS    0.642630  0.445697       0.376201      0.653816     0.421055   \n",
      "WIPRO.NS       0.441793  0.510842       0.263848      0.450424     0.460931   \n",
      "COALINDIA.NS   0.319431  0.333476      -0.001644      0.267005     0.090156   \n",
      "BAJFINANCE.NS  0.567705  0.539972       0.404770      0.610298     0.522402   \n",
      "SUNPHARMA.NS   0.181689  0.406312       0.300534      0.296701     0.250083   \n",
      "BHARTIARTL.NS  0.418376  0.394954       0.221785      0.430705     0.349407   \n",
      "MARUTI.NS      0.538858  0.431493       0.434622      0.489343     0.400437   \n",
      "NTPC.NS        0.420596  0.321825       0.121639      0.357816     0.151805   \n",
      "TATAMOTORS.NS  0.547229  0.604082       0.346298      0.498349     0.431378   \n",
      "\n",
      "                 M&M.NS  AXISBANK.NS  WIPRO.NS  COALINDIA.NS  BAJFINANCE.NS  \\\n",
      "RELIANCE.NS    0.443146     0.350525  0.366931      0.421608       0.457497   \n",
      "TCS.NS         0.300737     0.288359  0.691370      0.255745       0.454869   \n",
      "INFY.NS        0.274827     0.284740  0.713294      0.202138       0.452997   \n",
      "ASIANPAINT.NS  0.394770     0.267866  0.423972      0.005172       0.460064   \n",
      "ITC.NS         0.305703     0.290736  0.309512      0.391374       0.389955   \n",
      "SBIN.NS        0.445006     0.642630  0.441793      0.319431       0.567705   \n",
      "LT.NS          0.479353     0.445697  0.510842      0.333476       0.539972   \n",
      "HINDUNILVR.NS  0.389452     0.376201  0.263848     -0.001644       0.404770   \n",
      "ICICIBANK.NS   0.462383     0.653816  0.450424      0.267005       0.610298   \n",
      "HDFCBANK.NS    0.368465     0.421055  0.460931      0.090156       0.522402   \n",
      "M&M.NS         1.000000     0.401403  0.321696      0.244247       0.533799   \n",
      "AXISBANK.NS    0.401403     1.000000  0.361657      0.274742       0.475546   \n",
      "WIPRO.NS       0.321696     0.361657  1.000000      0.284321       0.508283   \n",
      "COALINDIA.NS   0.244247     0.274742  0.284321      1.000000       0.250801   \n",
      "BAJFINANCE.NS  0.533799     0.475546  0.508283      0.250801       1.000000   \n",
      "SUNPHARMA.NS   0.231706     0.128152  0.253101      0.206583       0.319889   \n",
      "BHARTIARTL.NS  0.384491     0.337900  0.373460      0.238918       0.348910   \n",
      "MARUTI.NS      0.581030     0.458780  0.271954      0.130499       0.453879   \n",
      "NTPC.NS        0.331062     0.266994  0.263056      0.460657       0.313940   \n",
      "TATAMOTORS.NS  0.645853     0.453122  0.474961      0.413360       0.534826   \n",
      "\n",
      "               SUNPHARMA.NS  BHARTIARTL.NS  MARUTI.NS   NTPC.NS  TATAMOTORS.NS  \n",
      "RELIANCE.NS        0.270989       0.350316   0.347776  0.311518       0.520485  \n",
      "TCS.NS             0.339346       0.291820   0.264842  0.197202       0.462082  \n",
      "INFY.NS            0.343568       0.329265   0.191240  0.133697       0.405598  \n",
      "ASIANPAINT.NS      0.294159       0.271397   0.422750  0.076077       0.403252  \n",
      "ITC.NS             0.302546       0.237508   0.207462  0.319321       0.406523  \n",
      "SBIN.NS            0.181689       0.418376   0.538858  0.420596       0.547229  \n",
      "LT.NS              0.406312       0.394954   0.431493  0.321825       0.604082  \n",
      "HINDUNILVR.NS      0.300534       0.221785   0.434622  0.121639       0.346298  \n",
      "ICICIBANK.NS       0.296701       0.430705   0.489343  0.357816       0.498349  \n",
      "HDFCBANK.NS        0.250083       0.349407   0.400437  0.151805       0.431378  \n",
      "M&M.NS             0.231706       0.384491   0.581030  0.331062       0.645853  \n",
      "AXISBANK.NS        0.128152       0.337900   0.458780  0.266994       0.453122  \n",
      "WIPRO.NS           0.253101       0.373460   0.271954  0.263056       0.474961  \n",
      "COALINDIA.NS       0.206583       0.238918   0.130499  0.460657       0.413360  \n",
      "BAJFINANCE.NS      0.319889       0.348910   0.453879  0.313940       0.534826  \n",
      "SUNPHARMA.NS       1.000000       0.191395   0.163256  0.181741       0.332989  \n",
      "BHARTIARTL.NS      0.191395       1.000000   0.369739  0.323159       0.433450  \n",
      "MARUTI.NS          0.163256       0.369739   1.000000  0.306942       0.552415  \n",
      "NTPC.NS            0.181741       0.323159   0.306942  1.000000       0.395902  \n",
      "TATAMOTORS.NS      0.332989       0.433450   0.552415  0.395902       1.000000  \n"
     ]
    }
   ],
   "source": [
    "print(\"Correlation matrix:\\n\", correlation_matrix)"
   ]
  },
  {
   "cell_type": "code",
   "execution_count": 10,
   "id": "c7138bfc",
   "metadata": {},
   "outputs": [
    {
     "name": "stdout",
     "output_type": "stream",
     "text": [
      "Top 5 uncorrelated stocks: Index(['TATAMOTORS.NS', 'LT.NS', 'ICICIBANK.NS', 'BAJFINANCE.NS', 'SBIN.NS'], dtype='object')\n"
     ]
    }
   ],
   "source": [
    "print(\"Top 5 uncorrelated stocks:\", uncorrelated_stocks)"
   ]
  },
  {
   "cell_type": "code",
   "execution_count": null,
   "id": "e34fe8aa",
   "metadata": {},
   "outputs": [],
   "source": []
  }
 ],
 "metadata": {
  "kernelspec": {
   "display_name": "Python 3 (ipykernel)",
   "language": "python",
   "name": "python3"
  },
  "language_info": {
   "codemirror_mode": {
    "name": "ipython",
    "version": 3
   },
   "file_extension": ".py",
   "mimetype": "text/x-python",
   "name": "python",
   "nbconvert_exporter": "python",
   "pygments_lexer": "ipython3",
   "version": "3.11.4"
  }
 },
 "nbformat": 4,
 "nbformat_minor": 5
}
